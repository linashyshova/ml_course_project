{
 "cells": [
  {
   "cell_type": "code",
   "execution_count": 127,
   "metadata": {
    "collapsed": true
   },
   "outputs": [],
   "source": [
    "import numpy as np\n",
    "import pandas as pd\n",
    "from sklearn.preprocessing import LabelBinarizer\n",
    "from scipy.special import softmax\n",
    "\n",
    "encoder = LabelBinarizer()\n",
    "from sklearn.metrics import classification_report\n",
    "from sklearn.metrics import precision_recall_fscore_support as score\n",
    "from sklearn.metrics import multilabel_confusion_matrix as confusion_matrix"
   ]
  },
  {
   "cell_type": "code",
   "execution_count": 128,
   "outputs": [],
   "source": [
    "data = pd.read_csv('../data/train.csv')\n",
    "# n = 15000  # number of train data\n",
    "m = 10  # number of validation data\n",
    "c = 784  # number of features\n",
    "n_classes = 10  # number of classes\n",
    "\n",
    "train_set = data.sample(frac=0.9)\n",
    "n = len(train_set)\n",
    "X = train_set.loc[:, train_set.columns != 'label']\n",
    "Y = train_set.loc[:, train_set.columns == 'label']\n",
    "\n",
    "validation_set = data.drop(train_set.index)\n",
    "validation_set_features = validation_set.loc[:, validation_set.columns != 'label']\n",
    "validation_set_labels = validation_set.loc[:, validation_set.columns == 'label']"
   ],
   "metadata": {
    "collapsed": false
   }
  },
  {
   "cell_type": "code",
   "execution_count": 129,
   "outputs": [],
   "source": [
    "eta = 0.00001\n",
    "mu = 0.00001"
   ],
   "metadata": {
    "collapsed": false
   }
  },
  {
   "cell_type": "code",
   "execution_count": 130,
   "outputs": [],
   "source": [
    "# loss function\n",
    "def loss(X, Y, W):\n",
    "    Z = - (np.matmul(X, W))\n",
    "    return 1 / n * (np.trace(X @ W @ Y.T) + np.sum(np.log(np.sum(np.exp(Z), axis=1))))"
   ],
   "metadata": {
    "collapsed": false
   }
  },
  {
   "cell_type": "code",
   "execution_count": 131,
   "outputs": [],
   "source": [
    "def predict(x, W):\n",
    "    z = - (np.matmul(x, W))\n",
    "    p = softmax(z)  # probabilities for the item per class\n",
    "    return np.argmax(p, axis=1)  # index of class with maximum probability"
   ],
   "metadata": {
    "collapsed": false
   }
  },
  {
   "cell_type": "code",
   "execution_count": 132,
   "outputs": [],
   "source": [
    "def gradient_descent(X, Y, W):\n",
    "    Z = - (np.matmul(X, W))\n",
    "    P = softmax(Z)\n",
    "    return 1 / n * np.matmul(X.T, (Y - P)) + 2 * mu * W"
   ],
   "metadata": {
    "collapsed": false
   }
  },
  {
   "cell_type": "code",
   "execution_count": 133,
   "outputs": [],
   "source": [
    "def gradient(X, Y, max_iter = 50000):\n",
    "    W = np.zeros((c, n_classes)) # Weights matrix c x 10 (number of features) x (number of classes)\n",
    "    Y_oh = encoder.fit_transform(Y) # matrix of n x n_classes, we multiply features by weights and add bias\n",
    "\n",
    "    step = 0\n",
    "    while step < max_iter:\n",
    "        step += 1\n",
    "        result = gradient_descent(X, Y_oh, W)\n",
    "        W = -eta * result\n",
    "\n",
    "    return W"
   ],
   "metadata": {
    "collapsed": false
   }
  },
  {
   "cell_type": "code",
   "execution_count": 134,
   "outputs": [
    {
     "name": "stderr",
     "output_type": "stream",
     "text": [
      "/var/folders/g7/zwq0_rkx69s36_nrdsxf6rnm0000gn/T/ipykernel_33907/2908592929.py:2: FutureWarning: Calling a ufunc on non-aligned DataFrames (or DataFrame/Series combination). Currently, the indices are ignored and the result takes the index/columns of the first DataFrame. In the future , the DataFrames/Series will be aligned before applying the ufunc.\n",
      "Convert one of the arguments to a NumPy array (eg 'ufunc(df1, np.asarray(df2)') to keep the current behaviour, or align manually (eg 'df1, df2 = df1.align(df2)') before passing to the ufunc to obtain the future behaviour and silence this warning.\n",
      "  Z = - (np.matmul(X, W))\n"
     ]
    },
    {
     "name": "stdout",
     "output_type": "stream",
     "text": [
      "5159.883490958004 seconds\n"
     ]
    }
   ],
   "source": [
    "import time\n",
    "start_time = time.perf_counter ()\n",
    "W = gradient(X, Y)\n",
    "end_time = time.perf_counter ()\n",
    "print(end_time - start_time, \"seconds\")"
   ],
   "metadata": {
    "collapsed": false
   }
  },
  {
   "cell_type": "code",
   "execution_count": 135,
   "outputs": [
    {
     "name": "stderr",
     "output_type": "stream",
     "text": [
      "/var/folders/g7/zwq0_rkx69s36_nrdsxf6rnm0000gn/T/ipykernel_33907/2259564291.py:2: FutureWarning: Calling a ufunc on non-aligned DataFrames (or DataFrame/Series combination). Currently, the indices are ignored and the result takes the index/columns of the first DataFrame. In the future , the DataFrames/Series will be aligned before applying the ufunc.\n",
      "Convert one of the arguments to a NumPy array (eg 'ufunc(df1, np.asarray(df2)') to keep the current behaviour, or align manually (eg 'df1, df2 = df1.align(df2)') before passing to the ufunc to obtain the future behaviour and silence this warning.\n",
      "  z = - (np.matmul(x, W))\n"
     ]
    },
    {
     "data": {
      "text/plain": "array([8, 7, 0, ..., 7, 2, 8])"
     },
     "execution_count": 135,
     "metadata": {},
     "output_type": "execute_result"
    }
   ],
   "source": [
    "predictions = predict(validation_set_features, W)\n",
    "predictions"
   ],
   "metadata": {
    "collapsed": false
   }
  },
  {
   "cell_type": "code",
   "execution_count": 136,
   "outputs": [
    {
     "data": {
      "text/plain": "       label\n10         8\n18         7\n21         6\n36         3\n45         6\n...      ...\n41971      3\n41972      4\n41980      7\n41981      2\n41982      8\n\n[4200 rows x 1 columns]",
      "text/html": "<div>\n<style scoped>\n    .dataframe tbody tr th:only-of-type {\n        vertical-align: middle;\n    }\n\n    .dataframe tbody tr th {\n        vertical-align: top;\n    }\n\n    .dataframe thead th {\n        text-align: right;\n    }\n</style>\n<table border=\"1\" class=\"dataframe\">\n  <thead>\n    <tr style=\"text-align: right;\">\n      <th></th>\n      <th>label</th>\n    </tr>\n  </thead>\n  <tbody>\n    <tr>\n      <th>10</th>\n      <td>8</td>\n    </tr>\n    <tr>\n      <th>18</th>\n      <td>7</td>\n    </tr>\n    <tr>\n      <th>21</th>\n      <td>6</td>\n    </tr>\n    <tr>\n      <th>36</th>\n      <td>3</td>\n    </tr>\n    <tr>\n      <th>45</th>\n      <td>6</td>\n    </tr>\n    <tr>\n      <th>...</th>\n      <td>...</td>\n    </tr>\n    <tr>\n      <th>41971</th>\n      <td>3</td>\n    </tr>\n    <tr>\n      <th>41972</th>\n      <td>4</td>\n    </tr>\n    <tr>\n      <th>41980</th>\n      <td>7</td>\n    </tr>\n    <tr>\n      <th>41981</th>\n      <td>2</td>\n    </tr>\n    <tr>\n      <th>41982</th>\n      <td>8</td>\n    </tr>\n  </tbody>\n</table>\n<p>4200 rows × 1 columns</p>\n</div>"
     },
     "execution_count": 136,
     "metadata": {},
     "output_type": "execute_result"
    }
   ],
   "source": [
    "validation_set_labels"
   ],
   "metadata": {
    "collapsed": false
   }
  },
  {
   "cell_type": "code",
   "execution_count": 137,
   "outputs": [
    {
     "name": "stdout",
     "output_type": "stream",
     "text": [
      "Precision : 0.6908606112468503\n",
      "Recall    : 0.6695238095238095\n",
      "F-score   : 0.6444916681167219\n"
     ]
    },
    {
     "name": "stderr",
     "output_type": "stream",
     "text": [
      "/Users/lshyshova/.conda/envs/ml_course_project/lib/python3.10/site-packages/sklearn/metrics/_classification.py:1344: UndefinedMetricWarning: Precision and F-score are ill-defined and being set to 0.0 in labels with no predicted samples. Use `zero_division` parameter to control this behavior.\n",
      "  _warn_prf(average, modifier, msg_start, len(result))\n",
      "/Users/lshyshova/.conda/envs/ml_course_project/lib/python3.10/site-packages/sklearn/metrics/_classification.py:1344: UndefinedMetricWarning: Precision and F-score are ill-defined and being set to 0.0 in labels with no predicted samples. Use `zero_division` parameter to control this behavior.\n",
      "  _warn_prf(average, modifier, msg_start, len(result))\n",
      "/Users/lshyshova/.conda/envs/ml_course_project/lib/python3.10/site-packages/sklearn/metrics/_classification.py:1344: UndefinedMetricWarning: Precision and F-score are ill-defined and being set to 0.0 in labels with no predicted samples. Use `zero_division` parameter to control this behavior.\n",
      "  _warn_prf(average, modifier, msg_start, len(result))\n",
      "/Users/lshyshova/.conda/envs/ml_course_project/lib/python3.10/site-packages/sklearn/metrics/_classification.py:1344: UndefinedMetricWarning: Precision and F-score are ill-defined and being set to 0.0 in labels with no predicted samples. Use `zero_division` parameter to control this behavior.\n",
      "  _warn_prf(average, modifier, msg_start, len(result))\n"
     ]
    }
   ],
   "source": [
    "report = classification_report(validation_set_labels, predictions)\n",
    "precision, recall, fscore, support = score(validation_set['label'], predictions, average='weighted')\n",
    "print('Precision : {}'.format(precision))\n",
    "print('Recall    : {}'.format(recall))\n",
    "print('F-score   : {}'.format(fscore))"
   ],
   "metadata": {
    "collapsed": false
   }
  },
  {
   "cell_type": "code",
   "execution_count": 137,
   "outputs": [],
   "source": [],
   "metadata": {
    "collapsed": false
   }
  }
 ],
 "metadata": {
  "kernelspec": {
   "display_name": "Python 3",
   "language": "python",
   "name": "python3"
  },
  "language_info": {
   "codemirror_mode": {
    "name": "ipython",
    "version": 2
   },
   "file_extension": ".py",
   "mimetype": "text/x-python",
   "name": "python",
   "nbconvert_exporter": "python",
   "pygments_lexer": "ipython2",
   "version": "2.7.6"
  }
 },
 "nbformat": 4,
 "nbformat_minor": 0
}
