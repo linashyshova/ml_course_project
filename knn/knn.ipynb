{
 "cells": [
  {
   "cell_type": "code",
   "execution_count": 1,
   "outputs": [],
   "source": [
    "import numpy as np\n",
    "import pandas as pd\n",
    "from sklearn.metrics import classification_report\n",
    "from sklearn.metrics import precision_recall_fscore_support as score\n",
    "from sklearn.metrics import multilabel_confusion_matrix as confusion_matrix"
   ],
   "metadata": {
    "collapsed": false
   }
  },
  {
   "cell_type": "code",
   "execution_count": 2,
   "outputs": [],
   "source": [
    "data = pd.read_csv('../data/train.csv')\n",
    "train_set = data.sample(frac=0.9)\n",
    "train_set_features = train_set.loc[:, train_set.columns != 'label']\n",
    "validation_set = data.drop(train_set.index)\n",
    "validation_set_features = validation_set.loc[:, validation_set.columns != 'label']"
   ],
   "metadata": {
    "collapsed": false
   }
  },
  {
   "cell_type": "code",
   "execution_count": null,
   "outputs": [],
   "source": [
    "# k from knn\n",
    "k = 10\n",
    "import time\n",
    "start_time = time.perf_counter ()\n",
    "\n",
    "# m train items\n",
    "m = len(train_set)\n",
    "train_labels = train_set[0:m][\"label\"]\n",
    "train_a = train_set_features[0:m].to_numpy()\n",
    "\n",
    "# b validation items\n",
    "b = len(validation_set)\n",
    "validation_labels = validation_set[0:b][\"label\"]\n",
    "validation_a = validation_set_features[0:b].to_numpy()\n",
    "\n",
    "# b x m matrix of distances from each validation item to each train item\n",
    "distances = np.sqrt(np.sum(np.square(train_a - validation_a[:, None]), axis=2))\n",
    "\n",
    "\n",
    "def get_label(column, labels):\n",
    "    column.reset_index(drop=True, inplace=True)\n",
    "    labels.reset_index(drop=True, inplace=True)\n",
    "    merged = pd.concat([column.rename(\"distance\"), labels], axis=1)\n",
    "    return merged.nsmallest(k, columns=[\"distance\"])[\"label\"].mode()[0]\n",
    "\n",
    "\n",
    "predictions = pd.DataFrame(distances.T).apply(lambda x: get_label(x, train_labels), axis=0)\n",
    "end_time = time.perf_counter ()\n",
    "print(end_time - start_time, \"seconds\")"
   ],
   "metadata": {
    "collapsed": false,
    "pycharm": {
     "is_executing": true
    }
   }
  },
  {
   "cell_type": "markdown",
   "source": [],
   "metadata": {
    "collapsed": false
   }
  },
  {
   "cell_type": "code",
   "execution_count": null,
   "outputs": [],
   "source": [
    "report = classification_report(validation_set['label'], predictions)\n",
    "precision, recall, fscore, support = score(validation_set['label'], predictions, average='weighted')\n",
    "print('Precision : {}'.format(precision))\n",
    "print('Recall    : {}'.format(recall))\n",
    "print('F-score   : {}'.format(fscore))"
   ],
   "metadata": {
    "collapsed": false
   }
  },
  {
   "cell_type": "code",
   "execution_count": null,
   "outputs": [],
   "source": [
    "knn_model = KNeighborsClassifier(n_neighbors=10, algorithm='kd_tree')\n",
    "knn_model.fit(train_set_features, train_set.loc[:, train_set.columns == 'label'].values.flatten())\n",
    "b = knn_model.predict(validation_set_features)"
   ],
   "metadata": {
    "collapsed": false
   }
  },
  {
   "cell_type": "code",
   "execution_count": null,
   "outputs": [],
   "source": [
    "reportb = classification_report(validation_set['label'], b)\n",
    "precision, recall, fscore, support = score(validation_set['label'], b, average='weighted')\n",
    "print('Precision : {}'.format(precision))\n",
    "print('Recall    : {}'.format(recall))\n",
    "print('F-score   : {}'.format(fscore))"
   ],
   "metadata": {
    "collapsed": false
   }
  }
 ],
 "metadata": {
  "kernelspec": {
   "display_name": "Python 3",
   "language": "python",
   "name": "python3"
  },
  "language_info": {
   "codemirror_mode": {
    "name": "ipython",
    "version": 2
   },
   "file_extension": ".py",
   "mimetype": "text/x-python",
   "name": "python",
   "nbconvert_exporter": "python",
   "pygments_lexer": "ipython2",
   "version": "2.7.6"
  }
 },
 "nbformat": 4,
 "nbformat_minor": 0
}
